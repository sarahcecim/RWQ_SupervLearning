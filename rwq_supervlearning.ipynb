{
  "nbformat": 4,
  "nbformat_minor": 0,
  "metadata": {
    "colab": {
      "provenance": []
    },
    "kernelspec": {
      "name": "python3",
      "display_name": "Python 3"
    },
    "language_info": {
      "name": "python"
    }
  },
  "cells": [
    {
      "cell_type": "markdown",
      "source": [
        "# Using Supervised Machine Learning\n",
        "\n",
        "🔗 Dataset: https://www.kaggle.com/datasets/uciml/red-wine-quality-cortez-et-al-2009\n",
        "\n",
        "# 1. Classificação:\n",
        "A partir de um conjunto de características, deve-se prever qual a classe pertence a nova observação."
      ],
      "metadata": {
        "id": "l4nD6n4sro8S"
      }
    },
    {
      "cell_type": "code",
      "source": [
        "#Importando as bibliotecas\n",
        "import pandas as pd\n",
        "import numpy as np"
      ],
      "metadata": {
        "id": "RuTIydNZvhOQ"
      },
      "execution_count": null,
      "outputs": []
    },
    {
      "cell_type": "code",
      "source": [
        "#Carregando os dados\n",
        "df = pd.read_csv(\"/content/sample_data/winequality-red.csv\", sep=',', header=0)"
      ],
      "metadata": {
        "id": "H8FZzcNjyyw1"
      },
      "execution_count": null,
      "outputs": []
    },
    {
      "cell_type": "code",
      "source": [
        "#Visualizando as 5 primeiras linhas\n",
        "df.head()"
      ],
      "metadata": {
        "id": "bVFtjVhJzPDE",
        "outputId": "e968b919-dd37-4a65-bea6-0ea949375189",
        "colab": {
          "base_uri": "https://localhost:8080/",
          "height": 223
        }
      },
      "execution_count": null,
      "outputs": [
        {
          "output_type": "execute_result",
          "data": {
            "text/plain": [
              "   fixed acidity  volatile acidity  citric acid  residual sugar  chlorides  \\\n",
              "0            7.4              0.70         0.00             1.9      0.076   \n",
              "1            7.8              0.88         0.00             2.6      0.098   \n",
              "2            7.8              0.76         0.04             2.3      0.092   \n",
              "3           11.2              0.28         0.56             1.9      0.075   \n",
              "4            7.4              0.70         0.00             1.9      0.076   \n",
              "\n",
              "   free sulfur dioxide  total sulfur dioxide  density    pH  sulphates  \\\n",
              "0                 11.0                  34.0   0.9978  3.51       0.56   \n",
              "1                 25.0                  67.0   0.9968  3.20       0.68   \n",
              "2                 15.0                  54.0   0.9970  3.26       0.65   \n",
              "3                 17.0                  60.0   0.9980  3.16       0.58   \n",
              "4                 11.0                  34.0   0.9978  3.51       0.56   \n",
              "\n",
              "   alcohol  quality  \n",
              "0      9.4        5  \n",
              "1      9.8        5  \n",
              "2      9.8        5  \n",
              "3      9.8        6  \n",
              "4      9.4        5  "
            ],
            "text/html": [
              "\n",
              "  <div id=\"df-1e5cfd1b-28b9-4238-b77a-4ca52b17f570\" class=\"colab-df-container\">\n",
              "    <div>\n",
              "<style scoped>\n",
              "    .dataframe tbody tr th:only-of-type {\n",
              "        vertical-align: middle;\n",
              "    }\n",
              "\n",
              "    .dataframe tbody tr th {\n",
              "        vertical-align: top;\n",
              "    }\n",
              "\n",
              "    .dataframe thead th {\n",
              "        text-align: right;\n",
              "    }\n",
              "</style>\n",
              "<table border=\"1\" class=\"dataframe\">\n",
              "  <thead>\n",
              "    <tr style=\"text-align: right;\">\n",
              "      <th></th>\n",
              "      <th>fixed acidity</th>\n",
              "      <th>volatile acidity</th>\n",
              "      <th>citric acid</th>\n",
              "      <th>residual sugar</th>\n",
              "      <th>chlorides</th>\n",
              "      <th>free sulfur dioxide</th>\n",
              "      <th>total sulfur dioxide</th>\n",
              "      <th>density</th>\n",
              "      <th>pH</th>\n",
              "      <th>sulphates</th>\n",
              "      <th>alcohol</th>\n",
              "      <th>quality</th>\n",
              "    </tr>\n",
              "  </thead>\n",
              "  <tbody>\n",
              "    <tr>\n",
              "      <th>0</th>\n",
              "      <td>7.4</td>\n",
              "      <td>0.70</td>\n",
              "      <td>0.00</td>\n",
              "      <td>1.9</td>\n",
              "      <td>0.076</td>\n",
              "      <td>11.0</td>\n",
              "      <td>34.0</td>\n",
              "      <td>0.9978</td>\n",
              "      <td>3.51</td>\n",
              "      <td>0.56</td>\n",
              "      <td>9.4</td>\n",
              "      <td>5</td>\n",
              "    </tr>\n",
              "    <tr>\n",
              "      <th>1</th>\n",
              "      <td>7.8</td>\n",
              "      <td>0.88</td>\n",
              "      <td>0.00</td>\n",
              "      <td>2.6</td>\n",
              "      <td>0.098</td>\n",
              "      <td>25.0</td>\n",
              "      <td>67.0</td>\n",
              "      <td>0.9968</td>\n",
              "      <td>3.20</td>\n",
              "      <td>0.68</td>\n",
              "      <td>9.8</td>\n",
              "      <td>5</td>\n",
              "    </tr>\n",
              "    <tr>\n",
              "      <th>2</th>\n",
              "      <td>7.8</td>\n",
              "      <td>0.76</td>\n",
              "      <td>0.04</td>\n",
              "      <td>2.3</td>\n",
              "      <td>0.092</td>\n",
              "      <td>15.0</td>\n",
              "      <td>54.0</td>\n",
              "      <td>0.9970</td>\n",
              "      <td>3.26</td>\n",
              "      <td>0.65</td>\n",
              "      <td>9.8</td>\n",
              "      <td>5</td>\n",
              "    </tr>\n",
              "    <tr>\n",
              "      <th>3</th>\n",
              "      <td>11.2</td>\n",
              "      <td>0.28</td>\n",
              "      <td>0.56</td>\n",
              "      <td>1.9</td>\n",
              "      <td>0.075</td>\n",
              "      <td>17.0</td>\n",
              "      <td>60.0</td>\n",
              "      <td>0.9980</td>\n",
              "      <td>3.16</td>\n",
              "      <td>0.58</td>\n",
              "      <td>9.8</td>\n",
              "      <td>6</td>\n",
              "    </tr>\n",
              "    <tr>\n",
              "      <th>4</th>\n",
              "      <td>7.4</td>\n",
              "      <td>0.70</td>\n",
              "      <td>0.00</td>\n",
              "      <td>1.9</td>\n",
              "      <td>0.076</td>\n",
              "      <td>11.0</td>\n",
              "      <td>34.0</td>\n",
              "      <td>0.9978</td>\n",
              "      <td>3.51</td>\n",
              "      <td>0.56</td>\n",
              "      <td>9.4</td>\n",
              "      <td>5</td>\n",
              "    </tr>\n",
              "  </tbody>\n",
              "</table>\n",
              "</div>\n",
              "    <div class=\"colab-df-buttons\">\n",
              "\n",
              "  <div class=\"colab-df-container\">\n",
              "    <button class=\"colab-df-convert\" onclick=\"convertToInteractive('df-1e5cfd1b-28b9-4238-b77a-4ca52b17f570')\"\n",
              "            title=\"Convert this dataframe to an interactive table.\"\n",
              "            style=\"display:none;\">\n",
              "\n",
              "  <svg xmlns=\"http://www.w3.org/2000/svg\" height=\"24px\" viewBox=\"0 -960 960 960\">\n",
              "    <path d=\"M120-120v-720h720v720H120Zm60-500h600v-160H180v160Zm220 220h160v-160H400v160Zm0 220h160v-160H400v160ZM180-400h160v-160H180v160Zm440 0h160v-160H620v160ZM180-180h160v-160H180v160Zm440 0h160v-160H620v160Z\"/>\n",
              "  </svg>\n",
              "    </button>\n",
              "\n",
              "  <style>\n",
              "    .colab-df-container {\n",
              "      display:flex;\n",
              "      gap: 12px;\n",
              "    }\n",
              "\n",
              "    .colab-df-convert {\n",
              "      background-color: #E8F0FE;\n",
              "      border: none;\n",
              "      border-radius: 50%;\n",
              "      cursor: pointer;\n",
              "      display: none;\n",
              "      fill: #1967D2;\n",
              "      height: 32px;\n",
              "      padding: 0 0 0 0;\n",
              "      width: 32px;\n",
              "    }\n",
              "\n",
              "    .colab-df-convert:hover {\n",
              "      background-color: #E2EBFA;\n",
              "      box-shadow: 0px 1px 2px rgba(60, 64, 67, 0.3), 0px 1px 3px 1px rgba(60, 64, 67, 0.15);\n",
              "      fill: #174EA6;\n",
              "    }\n",
              "\n",
              "    .colab-df-buttons div {\n",
              "      margin-bottom: 4px;\n",
              "    }\n",
              "\n",
              "    [theme=dark] .colab-df-convert {\n",
              "      background-color: #3B4455;\n",
              "      fill: #D2E3FC;\n",
              "    }\n",
              "\n",
              "    [theme=dark] .colab-df-convert:hover {\n",
              "      background-color: #434B5C;\n",
              "      box-shadow: 0px 1px 3px 1px rgba(0, 0, 0, 0.15);\n",
              "      filter: drop-shadow(0px 1px 2px rgba(0, 0, 0, 0.3));\n",
              "      fill: #FFFFFF;\n",
              "    }\n",
              "  </style>\n",
              "\n",
              "    <script>\n",
              "      const buttonEl =\n",
              "        document.querySelector('#df-1e5cfd1b-28b9-4238-b77a-4ca52b17f570 button.colab-df-convert');\n",
              "      buttonEl.style.display =\n",
              "        google.colab.kernel.accessAllowed ? 'block' : 'none';\n",
              "\n",
              "      async function convertToInteractive(key) {\n",
              "        const element = document.querySelector('#df-1e5cfd1b-28b9-4238-b77a-4ca52b17f570');\n",
              "        const dataTable =\n",
              "          await google.colab.kernel.invokeFunction('convertToInteractive',\n",
              "                                                    [key], {});\n",
              "        if (!dataTable) return;\n",
              "\n",
              "        const docLinkHtml = 'Like what you see? Visit the ' +\n",
              "          '<a target=\"_blank\" href=https://colab.research.google.com/notebooks/data_table.ipynb>data table notebook</a>'\n",
              "          + ' to learn more about interactive tables.';\n",
              "        element.innerHTML = '';\n",
              "        dataTable['output_type'] = 'display_data';\n",
              "        await google.colab.output.renderOutput(dataTable, element);\n",
              "        const docLink = document.createElement('div');\n",
              "        docLink.innerHTML = docLinkHtml;\n",
              "        element.appendChild(docLink);\n",
              "      }\n",
              "    </script>\n",
              "  </div>\n",
              "\n",
              "\n",
              "    <div id=\"df-5659374b-4807-491e-97a3-c924cec7ab46\">\n",
              "      <button class=\"colab-df-quickchart\" onclick=\"quickchart('df-5659374b-4807-491e-97a3-c924cec7ab46')\"\n",
              "                title=\"Suggest charts\"\n",
              "                style=\"display:none;\">\n",
              "\n",
              "<svg xmlns=\"http://www.w3.org/2000/svg\" height=\"24px\"viewBox=\"0 0 24 24\"\n",
              "     width=\"24px\">\n",
              "    <g>\n",
              "        <path d=\"M19 3H5c-1.1 0-2 .9-2 2v14c0 1.1.9 2 2 2h14c1.1 0 2-.9 2-2V5c0-1.1-.9-2-2-2zM9 17H7v-7h2v7zm4 0h-2V7h2v10zm4 0h-2v-4h2v4z\"/>\n",
              "    </g>\n",
              "</svg>\n",
              "      </button>\n",
              "\n",
              "<style>\n",
              "  .colab-df-quickchart {\n",
              "      --bg-color: #E8F0FE;\n",
              "      --fill-color: #1967D2;\n",
              "      --hover-bg-color: #E2EBFA;\n",
              "      --hover-fill-color: #174EA6;\n",
              "      --disabled-fill-color: #AAA;\n",
              "      --disabled-bg-color: #DDD;\n",
              "  }\n",
              "\n",
              "  [theme=dark] .colab-df-quickchart {\n",
              "      --bg-color: #3B4455;\n",
              "      --fill-color: #D2E3FC;\n",
              "      --hover-bg-color: #434B5C;\n",
              "      --hover-fill-color: #FFFFFF;\n",
              "      --disabled-bg-color: #3B4455;\n",
              "      --disabled-fill-color: #666;\n",
              "  }\n",
              "\n",
              "  .colab-df-quickchart {\n",
              "    background-color: var(--bg-color);\n",
              "    border: none;\n",
              "    border-radius: 50%;\n",
              "    cursor: pointer;\n",
              "    display: none;\n",
              "    fill: var(--fill-color);\n",
              "    height: 32px;\n",
              "    padding: 0;\n",
              "    width: 32px;\n",
              "  }\n",
              "\n",
              "  .colab-df-quickchart:hover {\n",
              "    background-color: var(--hover-bg-color);\n",
              "    box-shadow: 0 1px 2px rgba(60, 64, 67, 0.3), 0 1px 3px 1px rgba(60, 64, 67, 0.15);\n",
              "    fill: var(--button-hover-fill-color);\n",
              "  }\n",
              "\n",
              "  .colab-df-quickchart-complete:disabled,\n",
              "  .colab-df-quickchart-complete:disabled:hover {\n",
              "    background-color: var(--disabled-bg-color);\n",
              "    fill: var(--disabled-fill-color);\n",
              "    box-shadow: none;\n",
              "  }\n",
              "\n",
              "  .colab-df-spinner {\n",
              "    border: 2px solid var(--fill-color);\n",
              "    border-color: transparent;\n",
              "    border-bottom-color: var(--fill-color);\n",
              "    animation:\n",
              "      spin 1s steps(1) infinite;\n",
              "  }\n",
              "\n",
              "  @keyframes spin {\n",
              "    0% {\n",
              "      border-color: transparent;\n",
              "      border-bottom-color: var(--fill-color);\n",
              "      border-left-color: var(--fill-color);\n",
              "    }\n",
              "    20% {\n",
              "      border-color: transparent;\n",
              "      border-left-color: var(--fill-color);\n",
              "      border-top-color: var(--fill-color);\n",
              "    }\n",
              "    30% {\n",
              "      border-color: transparent;\n",
              "      border-left-color: var(--fill-color);\n",
              "      border-top-color: var(--fill-color);\n",
              "      border-right-color: var(--fill-color);\n",
              "    }\n",
              "    40% {\n",
              "      border-color: transparent;\n",
              "      border-right-color: var(--fill-color);\n",
              "      border-top-color: var(--fill-color);\n",
              "    }\n",
              "    60% {\n",
              "      border-color: transparent;\n",
              "      border-right-color: var(--fill-color);\n",
              "    }\n",
              "    80% {\n",
              "      border-color: transparent;\n",
              "      border-right-color: var(--fill-color);\n",
              "      border-bottom-color: var(--fill-color);\n",
              "    }\n",
              "    90% {\n",
              "      border-color: transparent;\n",
              "      border-bottom-color: var(--fill-color);\n",
              "    }\n",
              "  }\n",
              "</style>\n",
              "\n",
              "      <script>\n",
              "        async function quickchart(key) {\n",
              "          const quickchartButtonEl =\n",
              "            document.querySelector('#' + key + ' button');\n",
              "          quickchartButtonEl.disabled = true;  // To prevent multiple clicks.\n",
              "          quickchartButtonEl.classList.add('colab-df-spinner');\n",
              "          try {\n",
              "            const charts = await google.colab.kernel.invokeFunction(\n",
              "                'suggestCharts', [key], {});\n",
              "          } catch (error) {\n",
              "            console.error('Error during call to suggestCharts:', error);\n",
              "          }\n",
              "          quickchartButtonEl.classList.remove('colab-df-spinner');\n",
              "          quickchartButtonEl.classList.add('colab-df-quickchart-complete');\n",
              "        }\n",
              "        (() => {\n",
              "          let quickchartButtonEl =\n",
              "            document.querySelector('#df-5659374b-4807-491e-97a3-c924cec7ab46 button');\n",
              "          quickchartButtonEl.style.display =\n",
              "            google.colab.kernel.accessAllowed ? 'block' : 'none';\n",
              "        })();\n",
              "      </script>\n",
              "    </div>\n",
              "\n",
              "    </div>\n",
              "  </div>\n"
            ],
            "application/vnd.google.colaboratory.intrinsic+json": {
              "type": "dataframe",
              "variable_name": "df",
              "summary": "{\n  \"name\": \"df\",\n  \"rows\": 1599,\n  \"fields\": [\n    {\n      \"column\": \"fixed acidity\",\n      \"properties\": {\n        \"dtype\": \"number\",\n        \"std\": 1.7410963181277006,\n        \"min\": 4.6,\n        \"max\": 15.9,\n        \"num_unique_values\": 96,\n        \"samples\": [\n          5.3,\n          12.7,\n          12.6\n        ],\n        \"semantic_type\": \"\",\n        \"description\": \"\"\n      }\n    },\n    {\n      \"column\": \"volatile acidity\",\n      \"properties\": {\n        \"dtype\": \"number\",\n        \"std\": 0.17905970415353498,\n        \"min\": 0.12,\n        \"max\": 1.58,\n        \"num_unique_values\": 143,\n        \"samples\": [\n          1.025,\n          0.4,\n          0.87\n        ],\n        \"semantic_type\": \"\",\n        \"description\": \"\"\n      }\n    },\n    {\n      \"column\": \"citric acid\",\n      \"properties\": {\n        \"dtype\": \"number\",\n        \"std\": 0.19480113740531785,\n        \"min\": 0.0,\n        \"max\": 1.0,\n        \"num_unique_values\": 80,\n        \"samples\": [\n          0.37,\n          0.0,\n          0.09\n        ],\n        \"semantic_type\": \"\",\n        \"description\": \"\"\n      }\n    },\n    {\n      \"column\": \"residual sugar\",\n      \"properties\": {\n        \"dtype\": \"number\",\n        \"std\": 1.4099280595072805,\n        \"min\": 0.9,\n        \"max\": 15.5,\n        \"num_unique_values\": 91,\n        \"samples\": [\n          11.0,\n          3.0,\n          15.5\n        ],\n        \"semantic_type\": \"\",\n        \"description\": \"\"\n      }\n    },\n    {\n      \"column\": \"chlorides\",\n      \"properties\": {\n        \"dtype\": \"number\",\n        \"std\": 0.047065302010090154,\n        \"min\": 0.012,\n        \"max\": 0.611,\n        \"num_unique_values\": 153,\n        \"samples\": [\n          0.096,\n          0.3429999999999999,\n          0.159\n        ],\n        \"semantic_type\": \"\",\n        \"description\": \"\"\n      }\n    },\n    {\n      \"column\": \"free sulfur dioxide\",\n      \"properties\": {\n        \"dtype\": \"number\",\n        \"std\": 10.46015696980973,\n        \"min\": 1.0,\n        \"max\": 72.0,\n        \"num_unique_values\": 60,\n        \"samples\": [\n          11.0,\n          9.0,\n          32.0\n        ],\n        \"semantic_type\": \"\",\n        \"description\": \"\"\n      }\n    },\n    {\n      \"column\": \"total sulfur dioxide\",\n      \"properties\": {\n        \"dtype\": \"number\",\n        \"std\": 32.89532447829901,\n        \"min\": 6.0,\n        \"max\": 289.0,\n        \"num_unique_values\": 144,\n        \"samples\": [\n          68.0,\n          35.0,\n          101.0\n        ],\n        \"semantic_type\": \"\",\n        \"description\": \"\"\n      }\n    },\n    {\n      \"column\": \"density\",\n      \"properties\": {\n        \"dtype\": \"number\",\n        \"std\": 0.0018873339538425559,\n        \"min\": 0.99007,\n        \"max\": 1.00369,\n        \"num_unique_values\": 436,\n        \"samples\": [\n          0.99974,\n          1.0001,\n          0.99471\n        ],\n        \"semantic_type\": \"\",\n        \"description\": \"\"\n      }\n    },\n    {\n      \"column\": \"pH\",\n      \"properties\": {\n        \"dtype\": \"number\",\n        \"std\": 0.15438646490354266,\n        \"min\": 2.74,\n        \"max\": 4.01,\n        \"num_unique_values\": 89,\n        \"samples\": [\n          3.07,\n          3.0,\n          3.15\n        ],\n        \"semantic_type\": \"\",\n        \"description\": \"\"\n      }\n    },\n    {\n      \"column\": \"sulphates\",\n      \"properties\": {\n        \"dtype\": \"number\",\n        \"std\": 0.16950697959010977,\n        \"min\": 0.33,\n        \"max\": 2.0,\n        \"num_unique_values\": 96,\n        \"samples\": [\n          1.07,\n          1.04,\n          1.18\n        ],\n        \"semantic_type\": \"\",\n        \"description\": \"\"\n      }\n    },\n    {\n      \"column\": \"alcohol\",\n      \"properties\": {\n        \"dtype\": \"number\",\n        \"std\": 1.0656675818473926,\n        \"min\": 8.4,\n        \"max\": 14.9,\n        \"num_unique_values\": 65,\n        \"samples\": [\n          8.5,\n          9.95,\n          9.4\n        ],\n        \"semantic_type\": \"\",\n        \"description\": \"\"\n      }\n    },\n    {\n      \"column\": \"quality\",\n      \"properties\": {\n        \"dtype\": \"number\",\n        \"std\": 0,\n        \"min\": 3,\n        \"max\": 8,\n        \"num_unique_values\": 6,\n        \"samples\": [\n          5,\n          6,\n          3\n        ],\n        \"semantic_type\": \"\",\n        \"description\": \"\"\n      }\n    }\n  ]\n}"
            }
          },
          "metadata": {},
          "execution_count": 5
        }
      ]
    },
    {
      "cell_type": "code",
      "source": [
        "#Renomeando as colunas a partir de um dicionário\n",
        "pt_br = {\"fixed acidity\": \"acidez_fixa\",\n",
        "         \"volatile acidity\": \"acidez_volatil\",\n",
        "         \"citric acid\": \"acido_citrico\",\n",
        "         \"residual sugar\": \"acucar_residual\",\n",
        "         \"chlorides\": \"cloretos\",\n",
        "         \"free sulfur dioxide\": \"dioxido_de_enxofre_livre\",\n",
        "         \"total sulfur dioxide\": \"dioxido_de_enxofre_total\",\n",
        "         \"density\": \"densidade\",\n",
        "         \"sulphates\": \"sulfatos\",\n",
        "         \"alcohol\": \"alcool\",\n",
        "         \"quality\": \"qualidade\"}\n",
        "\n",
        "df.rename(pt_br, axis=1, inplace=True)"
      ],
      "metadata": {
        "id": "X08bUlZ386Cg"
      },
      "execution_count": null,
      "outputs": []
    },
    {
      "cell_type": "code",
      "source": [
        "#Estatísticas básicas dos valores numéricos\n",
        "df.describe()"
      ],
      "metadata": {
        "id": "J_ZL5Hqe-Kvm"
      },
      "execution_count": null,
      "outputs": []
    },
    {
      "cell_type": "code",
      "source": [
        "#Descrições das variáveis\n",
        "df.info()"
      ],
      "metadata": {
        "id": "dAfSj4HVBRyi"
      },
      "execution_count": null,
      "outputs": []
    },
    {
      "cell_type": "code",
      "source": [
        "#Construindo a classe qualitativa: alta (1) e baixa (0)\n",
        "df['qualidade_class'] = df['qualidade'].apply(lambda x: 1 if 6 <= x <= 10 else 0)\n"
      ],
      "metadata": {
        "id": "kjfP-HN9Rgm9"
      },
      "execution_count": null,
      "outputs": []
    },
    {
      "cell_type": "markdown",
      "source": [
        "# Teste e Treino"
      ],
      "metadata": {
        "id": "-V4SU5P3uTN_"
      }
    },
    {
      "cell_type": "code",
      "source": [
        "from sklearn.model_selection import train_test_split\n",
        "\n",
        "X = df.drop(['qualidade', 'qualidade_class'], axis=1) # Features\n",
        "y = df['qualidade_class'] # Target\n",
        "\n",
        "X_train, X_test, y_train, y_test = train_test_split(X, y, test_size=0.25, random_state=42)\n",
        "\n",
        "print(\"Tamanho do X_train:\", X_train.shape)\n",
        "print(\"Tamanho do X_test:\", X_test.shape)\n",
        "print(\"Tamanho do y_train:\", y_train.shape)\n",
        "print(\"Tamanho do y_test:\", y_test.shape)"
      ],
      "metadata": {
        "id": "xmCL068suVsh"
      },
      "execution_count": null,
      "outputs": []
    },
    {
      "cell_type": "markdown",
      "source": [
        "# 1.1 Árvore de decisão\n",
        "\n",
        "Obs: Não deixe de conferir a documentação para maiores informações deste modelo! https://scikit-learn.org/stable/modules/tree.html#decision-trees"
      ],
      "metadata": {
        "id": "8U2iBYLFsivg"
      }
    },
    {
      "cell_type": "code",
      "source": [
        "from sklearn.tree import DecisionTreeClassifier\n",
        "from sklearn.tree import plot_tree\n",
        "import matplotlib.pyplot as plt"
      ],
      "metadata": {
        "id": "gavaxBBDuSGX"
      },
      "execution_count": null,
      "outputs": []
    },
    {
      "cell_type": "code",
      "source": [
        "# Criando o modelo de Árvore de Decisão\n",
        "modelo_arvore = DecisionTreeClassifier(random_state=42)\n",
        "\n",
        "# Treinando o modelo\n",
        "modelo_arvore.fit(X_train, y_train)\n",
        "\n",
        "# Testando o modelo\n",
        "y_pred_arvore = modelo_arvore.predict(X_test)"
      ],
      "metadata": {
        "id": "chpz3CUVuR62"
      },
      "execution_count": null,
      "outputs": []
    },
    {
      "cell_type": "code",
      "source": [
        "# Visualizando a árvore de decisão\n",
        "plt.figure(figsize=(20, 10))\n",
        "plot_tree(modelo_arvore, filled=True, feature_names=X.columns, class_names=[str(q) for q in sorted(y.unique())])\n",
        "plt.show()"
      ],
      "metadata": {
        "id": "KDXwt2pVPMXg"
      },
      "execution_count": null,
      "outputs": []
    },
    {
      "cell_type": "markdown",
      "source": [
        "# 1.2 KNN\n",
        "\n",
        "Obs: Não deixe de conferir a documentação para maiores informações deste modelo! https://scikit-learn.org/stable/modules/neighbors.html#nearest-neighbors-classification"
      ],
      "metadata": {
        "id": "__w-i6OJGhKP"
      }
    },
    {
      "cell_type": "code",
      "source": [
        "from sklearn.neighbors import KNeighborsClassifier"
      ],
      "metadata": {
        "id": "EN7AxaUSGjCI"
      },
      "execution_count": null,
      "outputs": []
    },
    {
      "cell_type": "code",
      "source": [
        "# O número de vizinhos (n_neighbors) é um hiperparâmetro que pode ser ajustado (atenção na próxima aula)\n",
        "modelo_knn = KNeighborsClassifier(n_neighbors=5, metric='euclidean')\n",
        "\n",
        "# Treinando o modelo KNN\n",
        "modelo_knn.fit(X_train, y_train)\n",
        "\n",
        "# Fazendo previsões\n",
        "y_pred_knn = modelo_knn.predict(X_test)"
      ],
      "metadata": {
        "id": "CDyOL-DoHTKg"
      },
      "execution_count": null,
      "outputs": []
    },
    {
      "cell_type": "code",
      "source": [
        "from sklearn.model_selection import cross_val_score\n",
        "\n",
        "# Lista para armazenar a média das acurácias para cada valor de K\n",
        "cv_scores = []\n",
        "\n",
        "# Valores de K a serem testados (geralmente um intervalo de 1 a um número razoável)\n",
        "k_range = range(1, 31) # Testando K de 1 a 30\n",
        "\n",
        "# Loop para testar cada valor de K\n",
        "for k in k_range:\n",
        "    knn = KNeighborsClassifier(n_neighbors=k)\n",
        "    # Realizando a validação cruzada com 5 folds\n",
        "    scores = cross_val_score(knn, X_train, y_train, cv=5, scoring='accuracy')\n",
        "    # Armazenando a média das acurácias para este K\n",
        "    cv_scores.append(scores.mean())\n",
        "\n",
        "# Encontrando o K com a melhor acurácia média\n",
        "best_k = k_range[cv_scores.index(max(cv_scores))]\n",
        "\n",
        "print(f\"O melhor número de vizinhos (K) encontrado é: {best_k}\")\n",
        "\n",
        "# Opcional: Visualizar a relação entre K e a acurácia\n",
        "plt.plot(k_range, cv_scores)\n",
        "plt.xlabel('Número de Vizinhos (K)')\n",
        "plt.ylabel('Acurácia Média da Validação Cruzada')\n",
        "plt.title('Acurácia vs. Número de Vizinhos para KNN')\n",
        "plt.show()"
      ],
      "metadata": {
        "id": "UmXoqbYzHk9_"
      },
      "execution_count": null,
      "outputs": []
    },
    {
      "cell_type": "markdown",
      "source": [
        "# 2. Regressão\n",
        "A partir de um conjunto de características, deve-se prever o valor contínuo que possui a nova observação.\n",
        "\n",
        "Obs: Não deixe de conferir a documentação da biblioteca. Temos outras funções interessantes como o coeficiente e o intercepto, além de uma explicação da regressão. Confira aqui ➡️ https://scikit-learn.org/stable/modules/linear_model.html#ordinary-least-squares"
      ],
      "metadata": {
        "id": "laYyIQ6TyzAX"
      }
    },
    {
      "cell_type": "code",
      "source": [
        "from sklearn.linear_model import LinearRegression"
      ],
      "metadata": {
        "id": "JkHuiCFwzKhh"
      },
      "execution_count": null,
      "outputs": []
    },
    {
      "cell_type": "code",
      "source": [
        "X1 = df.drop(['qualidade', 'qualidade_class'], axis=1) # Features\n",
        "y1 = df['qualidade'] # Target\n",
        "\n",
        "X1_train, X1_test, y1_train, y1_test = train_test_split(X1, y1, test_size=0.25, random_state=42)\n",
        "\n",
        "print(\"Tamanho do X_train:\", X1_train.shape)\n",
        "print(\"Tamanho do X_test:\", X1_test.shape)\n",
        "print(\"Tamanho do y_train:\", y1_train.shape)\n",
        "print(\"Tamanho do y_test:\", y1_test.shape)"
      ],
      "metadata": {
        "id": "o-zK8gHMUdi5"
      },
      "execution_count": null,
      "outputs": []
    },
    {
      "cell_type": "code",
      "source": [
        "# Criando o modelo de Regressão Linear\n",
        "modelo_regressao = LinearRegression()\n",
        "\n",
        "# Treinando o modelo\n",
        "modelo_regressao.fit(X1_train, y1_train)\n",
        "\n",
        "# Realizando previsões no conjunto de teste\n",
        "y_pred_regressao = modelo_regressao.predict(X1_test)"
      ],
      "metadata": {
        "id": "NC2GHtkuGi65"
      },
      "execution_count": null,
      "outputs": []
    },
    {
      "cell_type": "code",
      "source": [
        "# Visualizar a relação entre as variáveis e a qualidade\n",
        "plt.figure(figsize=(16, 10))\n",
        "for i, col in enumerate(df.columns[:-1]): # Exclui a coluna 'qualidade'\n",
        "    plt.subplot(3, 4, i + 1) # Cria subplots (3 linhas, 4 colunas)\n",
        "    plt.scatter(df[col], df['qualidade'], alpha=0.5)\n",
        "    plt.title(f'{col} vs Qualidade')\n",
        "    plt.xlabel(col)\n",
        "    plt.ylabel('Qualidade')\n",
        "plt.tight_layout() # Ajusta o layout para evitar sobreposição\n",
        "plt.show()"
      ],
      "metadata": {
        "id": "eW-cjanuPO7Z"
      },
      "execution_count": null,
      "outputs": []
    },
    {
      "cell_type": "markdown",
      "source": [
        "# 3. Métricas de avaliação\n",
        "\n",
        "Obs: Não deixe de conferir a documentação da biblioteca. https://scikit-learn.org/stable/modules/model_evaluation.html#metrics-and-scoring-quantifying-the-quality-of-predictions"
      ],
      "metadata": {
        "id": "DFciuU1ZzXBG"
      }
    },
    {
      "cell_type": "code",
      "source": [
        "from sklearn.metrics import accuracy_score, precision_score, recall_score, f1_score, classification_report, r2_score, mean_absolute_error, root_mean_squared_error"
      ],
      "metadata": {
        "id": "_CSaxGHrzaHk"
      },
      "execution_count": null,
      "outputs": []
    },
    {
      "cell_type": "code",
      "source": [
        "# Métricas para Árvore de Decisão\n",
        "print(\"Métricas para Árvore de Decisão:\")\n",
        "print(\"Acurácia:\", accuracy_score(y_test, y_pred_arvore))\n",
        "print(\"Precisão:\", precision_score(y_test, y_pred_arvore))\n",
        "print(\"Recall:\", recall_score(y_test, y_pred_arvore))\n",
        "print(\"F1 Score:\", f1_score(y_test, y_pred_arvore))\n",
        "print(\"\\nClassification Report para Árvore de Decisão:\\n\", classification_report(y_test, y_pred_arvore))\n",
        "\n",
        "# Métricas para KNN\n",
        "print(\"\\nMétricas para KNN:\")\n",
        "print(\"Acurácia:\", accuracy_score(y_test, y_pred_knn))\n",
        "print(\"Precisão:\", precision_score(y_test, y_pred_knn))\n",
        "print(\"Recall:\", recall_score(y_test, y_pred_knn))\n",
        "print(\"F1 Score:\", f1_score(y_test, y_pred_knn))\n",
        "print(\"\\nClassification Report para KNN:\\n\", classification_report(y_test, y_pred_knn))"
      ],
      "metadata": {
        "id": "qkumgF5SzZrc"
      },
      "execution_count": null,
      "outputs": []
    },
    {
      "cell_type": "code",
      "source": [
        "from sklearn.metrics import confusion_matrix, ConfusionMatrixDisplay\n",
        "\n",
        "# Matriz de Confusão para Árvore de Decisão\n",
        "cm_arvore = confusion_matrix(y_test, y_pred_arvore)\n",
        "disp_arvore = ConfusionMatrixDisplay(confusion_matrix=cm_arvore, display_labels=sorted(y.unique()))\n",
        "disp_arvore.plot()\n",
        "plt.title(\"Matriz de Confusão - Árvore de Decisão\")\n",
        "plt.show()\n",
        "\n",
        "# Matriz de Confusão para KNN\n",
        "cm_knn = confusion_matrix(y_test, y_pred_knn)\n",
        "disp_knn = ConfusionMatrixDisplay(confusion_matrix=cm_knn, display_labels=sorted(y.unique()))\n",
        "disp_knn.plot()\n",
        "plt.title(\"Matriz de Confusão - KNN\")\n",
        "plt.show()\n"
      ],
      "metadata": {
        "id": "jMGGY_XgIHSm"
      },
      "execution_count": null,
      "outputs": []
    },
    {
      "cell_type": "code",
      "source": [
        "# Métricas para Regressão Linear\n",
        "print(\"\\nMétricas para Regressão Linear:\")\n",
        "print(\"R² Score:\", r2_score(y1_test, y_pred_regressao))\n",
        "print(\"Mean Absolute Error:\", mean_absolute_error(y1_test, y_pred_regressao))\n",
        "print(\"Root Mean Squared Error:\", root_mean_squared_error(y1_test, y_pred_regressao))"
      ],
      "metadata": {
        "id": "QU8mogR_aQnO"
      },
      "execution_count": null,
      "outputs": []
    }
  ]
}